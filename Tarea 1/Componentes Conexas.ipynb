{
 "cells": [
  {
   "cell_type": "markdown",
   "source": [
    "GENERADOR DE COMPONENTES CONEXAS:\n",
    "La función toma como argumento (un grafo G=(V, E) a través de) un diccionario, donde el conjunto de llaves es V y cada llave v tiene como clave asociada el conjunto de vértices adyacentes a v. La función regresará una lista o tupla cuyos elementos corresponden a las componentes conexas del grafo; estas componentes pueden ser representadas a través de tuplas, listas o conjuntos."
   ],
   "metadata": {
    "collapsed": false
   },
   "id": "e1677f434ea96a81"
  },
  {
   "cell_type": "code",
   "execution_count": 47,
   "outputs": [],
   "source": [
    "def COMPONENTES(G):\n",
    "    componentes = []\n",
    "    vertices = []\n",
    "    for key in G:\n",
    "        vertices.append(key)\n",
    "    conexo_1 = [vertices[0]]\n",
    "    for i in G[vertices[0]]:\n",
    "        conexo_1.append(i)\n",
    "    componentes.append(conexo_1)\n",
    "    \n",
    "    for i in range(1, len(vertices)):\n",
    "        comprobacion_existencia = False\n",
    "        for componente in componentes:\n",
    "            if vertices[i] in componente:\n",
    "                for vecino in G[vertices[i]]:\n",
    "                    if vecino not in componente:\n",
    "                        componente.append(vecino)\n",
    "                comprobacion_existencia = True\n",
    "        if not comprobacion_existencia:\n",
    "            conexo_2 = [vertices[i]]\n",
    "            for vecino in G[vertices[i]]:\n",
    "                conexo_2.append(vecino)\n",
    "            componentes.append(conexo_2)\n",
    "                \n",
    "    print(componentes)"
   ],
   "metadata": {
    "collapsed": false,
    "ExecuteTime": {
     "end_time": "2023-08-31T21:43:06.922208200Z",
     "start_time": "2023-08-31T21:43:06.920180700Z"
    }
   },
   "id": "e679ed8b534009da"
  },
  {
   "cell_type": "markdown",
   "source": [
    "DESCRIPCIÓN DEL ALGORITMO:\n",
    "La idea general del algoritmo radica en el ir construyendo las componentes conexas del grafo mediante el recorrido por los vértices y la verificación de su pertenencia en alguna de las componentes ya creadas."
   ],
   "metadata": {
    "collapsed": false
   },
   "id": "b519695959a0bca2"
  },
  {
   "cell_type": "markdown",
   "source": [
    "FUNCIONAMIENTO:\n",
    "De inicio, se inicializa una lista componentes, donde iremos añadiendo las componentes creadas.\n",
    "Desarrollamos un caso base, la primera componente parcial, sobre la cual poder iniciar nuestro proceso de iteración y comparación. Para esto, tomamos el primer vértice del grafo, creamos una lista conexo_1 con este y todos sus vértices adyacentes, esta será la primer propuesta de componente conexa.\n",
    "Iniciamos un ciclo según el cual iremos iterando por cada vértice, desde el segundo de ellos. Vamos a recorrer las componentes que llevamos hasta el momento, en busca de la existencia del vértice sobre el cual estamos. Si dicho vértice esta en el componente, tomamos sus vértices adyacentes, evaluamos si este mismo esta ya en la componente, si no es así lo agregamos a la misma.\n",
    "Ahora bien, si luego de iteradas todas las componentes que se llevan, nos encontramos en la situación de que nuestro vértice no se encuentra en ninguna componente, será porque esta en una aparte, por ello, creamos una nueva componente con sus vértices adyacentes y la agregamos al compendio de componentes conexas del grafo.\n",
    "Una vez finalizada la iteración por cada uno de los vértices del grafo, hemos obtenido una lista con las componentes conexas del grafo."
   ],
   "metadata": {
    "collapsed": false
   },
   "id": "422b64df6f6f11aa"
  },
  {
   "cell_type": "code",
   "execution_count": 48,
   "id": "initial_id",
   "metadata": {
    "collapsed": true,
    "ExecuteTime": {
     "end_time": "2023-08-31T21:43:08.211298100Z",
     "start_time": "2023-08-31T21:43:08.191231800Z"
    }
   },
   "outputs": [
    {
     "name": "stdout",
     "output_type": "stream",
     "text": [
      "[[1, 2, 3, 4, 5, 6]]\n"
     ]
    }
   ],
   "source": [
    "COMPONENTES({1: [2, 3, 4, 5, 6], 2: [1], 3: [1], 4: [1], 5: [1], 6: [1]})"
   ]
  },
  {
   "cell_type": "code",
   "execution_count": 49,
   "outputs": [
    {
     "name": "stdout",
     "output_type": "stream",
     "text": [
      "[[1, 2, 3, 4], [5, 6]]\n"
     ]
    }
   ],
   "source": [
    "COMPONENTES({1: [2, 3, 4], 2: [1], 3: [1], 4: [1], 5: [6], 6: [5]})"
   ],
   "metadata": {
    "collapsed": false,
    "ExecuteTime": {
     "end_time": "2023-08-31T21:43:09.256832Z",
     "start_time": "2023-08-31T21:43:09.229377300Z"
    }
   },
   "id": "e111f5702bbc7c30"
  },
  {
   "cell_type": "code",
   "execution_count": null,
   "outputs": [],
   "source": [],
   "metadata": {
    "collapsed": false
   },
   "id": "679cc79472cd6e34"
  }
 ],
 "metadata": {
  "kernelspec": {
   "display_name": "Python 3",
   "language": "python",
   "name": "python3"
  },
  "language_info": {
   "codemirror_mode": {
    "name": "ipython",
    "version": 2
   },
   "file_extension": ".py",
   "mimetype": "text/x-python",
   "name": "python",
   "nbconvert_exporter": "python",
   "pygments_lexer": "ipython2",
   "version": "2.7.6"
  }
 },
 "nbformat": 4,
 "nbformat_minor": 5
}
