{
 "cells": [
  {
   "cell_type": "markdown",
   "source": [
    "GENERADOR DE ADYACENCIAS:\n",
    "\n",
    "Función que toma como argumento dos tuplas V y E correspondientes al conjunto de vértices y aristas de un grafo G=V,E. La función regresará un diccionario donde el conjunto de llave es V y cada llave v tiene como clave asociada el conjunto de vértices adyacentes a v. Los elementos de E también son tuplas, en este caso de dos elementos."
   ],
   "metadata": {
    "collapsed": false
   },
   "id": "cfea532588323c61"
  },
  {
   "cell_type": "code",
   "execution_count": 1,
   "outputs": [],
   "source": [
    "def GENERADOR_ADYACENCIAS(V, E):\n",
    "    adyacencias = {}\n",
    "    for i in V:\n",
    "        vertices_adyacentes = []\n",
    "        for edge in E:\n",
    "            if edge[0] == i:\n",
    "                vertices_adyacentes.append(edge[1])\n",
    "            elif edge[1] == i:\n",
    "                vertices_adyacentes.append(edge[0])\n",
    "        adyacencias[i] = vertices_adyacentes\n",
    "    return adyacencias"
   ],
   "metadata": {
    "collapsed": false,
    "ExecuteTime": {
     "end_time": "2023-09-01T00:27:29.012886700Z",
     "start_time": "2023-09-01T00:27:28.997172500Z"
    }
   },
   "id": "e582c64c1ae2f1d1"
  },
  {
   "cell_type": "markdown",
   "source": [
    "FUNCIONAMIENTO:\n",
    "La función inicia un diccionario vacío en el cual se almacenará por vértice, aquellos que sean vecinos a él.\n",
    "Para hacer el llenado del diccionario, se hace un recorrido por el conjunto de vértices V, los que serán la clave en el diccionario.\n",
    "Para cada vértice, se hace un recorrido de las aristas E y se valora si el vértice en mención hace parte de alguno de los componentes de las aristas.\n",
    "De ser afirmativa su inclusión en la arista, se añade su vértice adyacente a una lista parcial que almacena los vértices adyacentes al vértice del que se esta indexando.\n",
    "Una vez se recorren todas las aristas, se añade al diccionario la lista de los vértices.\n",
    "Finalmente, una vez se han recorrido todos los vértices del grafo, se retorna el diccionario de las adyacencias de los vértices."
   ],
   "metadata": {
    "collapsed": false
   },
   "id": "1da779a42aad3415"
  },
  {
   "cell_type": "code",
   "execution_count": 2,
   "id": "initial_id",
   "metadata": {
    "collapsed": true,
    "ExecuteTime": {
     "end_time": "2023-09-01T00:27:30.795393100Z",
     "start_time": "2023-09-01T00:27:30.780799800Z"
    }
   },
   "outputs": [
    {
     "name": "stdout",
     "output_type": "stream",
     "text": [
      "{1: [2], 2: [1, 3], 3: [2, 4], 4: [3, 5], 5: [4]}\n"
     ]
    }
   ],
   "source": [
    "V = (1, 2, 3, 4, 5)\n",
    "E = ((1, 2), (2, 3), (3, 4), (4, 5))\n",
    "adyacencias = GENERADOR_ADYACENCIAS(V, E)\n",
    "print(adyacencias)"
   ]
  }
 ],
 "metadata": {
  "kernelspec": {
   "display_name": "Python 3",
   "language": "python",
   "name": "python3"
  },
  "language_info": {
   "codemirror_mode": {
    "name": "ipython",
    "version": 2
   },
   "file_extension": ".py",
   "mimetype": "text/x-python",
   "name": "python",
   "nbconvert_exporter": "python",
   "pygments_lexer": "ipython2",
   "version": "2.7.6"
  }
 },
 "nbformat": 4,
 "nbformat_minor": 5
}
