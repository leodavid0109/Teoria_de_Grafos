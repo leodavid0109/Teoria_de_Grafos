{
 "cells": [
  {
   "cell_type": "markdown",
   "source": [
    "ALGORITMO 2.1: HALLAZGO DE COMPONENTES CONEXAS DE UN GRAFO G\n",
    "El código que a continuación se desarrolla describe un algoritmo para encontrar las componentes conexas cuya complejidad es O(n+mα(n)), donde n y m son respectivamente la cantidad de vértices y aristas del grafo, y α(n) es la inversa de la función A(k)=1 para k=1 y A(k) = 2^{A(k-1)} para k>=2 "
   ],
   "metadata": {
    "collapsed": false
   },
   "id": "59a042c36e94e59f"
  },
  {
   "cell_type": "code",
   "execution_count": 13,
   "id": "initial_id",
   "metadata": {
    "collapsed": true,
    "ExecuteTime": {
     "end_time": "2023-09-01T03:11:38.663338800Z",
     "start_time": "2023-09-01T03:11:38.658183900Z"
    }
   },
   "outputs": [],
   "source": [
    "def components(V, E):\n",
    "    CompPtr = []\n",
    "    \n",
    "    def COMPREP(i):\n",
    "        if CompPtr[i - 1] < 0:\n",
    "            return i\n",
    "        else:\n",
    "            theRep = COMPREP(CompPtr[i - 1])\n",
    "            CompPtr[i - 1] = theRep\n",
    "            return theRep\n",
    "        \n",
    "    def MERGE(uRep, vRep):\n",
    "        uSize = - CompPtr[uRep - 1]\n",
    "        vSize = - CompPtr[vRep - 1]\n",
    "        if uSize < vSize:\n",
    "            CompPtr[uRep - 1] = vRep\n",
    "            CompPtr[vRep - 1] = - (uSize + vSize)\n",
    "        else:\n",
    "            CompPtr[vRep - 1] = uRep\n",
    "            CompPtr[uRep - 1] = - (uSize + vSize)\n",
    "    \n",
    "    numero_vertices = len(V)\n",
    "    for u in range(1, numero_vertices + 1):\n",
    "        CompPtr.append(-1)\n",
    "    for i in range(1, numero_vertices + 1):\n",
    "        u = V[i - 1]\n",
    "        for edge in E:\n",
    "            if edge[1] == u:\n",
    "                uRep = COMPREP(u)\n",
    "                vRep = COMPREP(edge[0])\n",
    "                if uRep != vRep:\n",
    "                    MERGE(uRep, vRep)\n",
    "                    \n",
    "    representantes = {}\n",
    "    for i in V:\n",
    "        representantes[i] = COMPREP(i)\n",
    "    componentes = {}\n",
    "    for vertice in representantes:\n",
    "        if representantes[vertice] in componentes:\n",
    "            componentes[representantes[vertice]] += [vertice]\n",
    "        else:\n",
    "            componentes[representantes[vertice]] = [vertice]\n",
    "    for i in componentes:\n",
    "        print(componentes[i])"
   ]
  },
  {
   "cell_type": "markdown",
   "source": [
    "DESCRIPCIÓN DEL ALGORITMO:\n",
    "El algoritmo básicamente hace uso de lo que serán las representantes de cada vértice para irlas unificando e ir creando una ramificación de las mismas que emulen ciertas conexiones y por ende, cierta conexidad entre los vértices del grafo. Una vez se tengan unificados estos representantes, el conjunto de los vértices que lo compartan serán aquellos que tengan la propiedad de conexidad y conformarán las componentes conexas del mismo."
   ],
   "metadata": {
    "collapsed": false
   },
   "id": "167e2615d4ea0b4"
  },
  {
   "cell_type": "markdown",
   "source": [
    "FUNCIONAMIENTO:\n",
    "- Función MERGE: Encargado de mezclar representantes de componentes conexas.\n",
    "\n",
    "Como su nombre lo indica, la función se encarga de combinar el representante de las componentes. Para este fin, y como el valor en CompPtr indicará la longitud de la componente, se compara este valor con el fin de determinar cuál cambio es más conveniente (el más largo). Luego de esto, y dependiendo la decisión tomada en el paso anterior, se actualizan los punteros de los representantes en mención, el menor de ellos, se asignará como parte de la componente, dicho vértice será su representante, y a la mayor de ellas, se asignará el valor de la cantidad de vértices de la componente.\n",
    "\n",
    "- Función COMPREP: Encargada de buscar el representante de un vértice.\n",
    "\n",
    "La función se encarga de revisar el valor correspondiente del vértice en la lista CompPtr (apuntadores auxiliares) para devolver el vértice representante. Para esto, valida si el valor en la lista mencionada es menor que 0, si es así realiza la devolución, de lo contrario, hace uso de la recursividad para volver a llamar la función para que se busque aquel valor negativo, y por ende, el representante en mención. En este proceso de búsqueda, se va actualizando el apuntador con el fin de ir mejorando cada vez la búsqueda del representante.\n",
    "\n",
    "- Algoritmo General:\n",
    "\n",
    "Lo primero que se realiza es inicializar los punteros de los vértices, para eso se hace uso de la lista CompPtr, y se inicializan todos en -1 (representando que en inicio, nuestra hipótesis es que cada vértice está isolado y en una componente aparte, con el recorrido en las aristas es que se irá transformando). Ahora bien, se hará un recorrido en los vértices para revisar sus vecinos y sus aristas. Dentro de dicho ciclo, se verifica en las aristas del grafo si de dicho vértice se desprende la arista, si se encuentra un vértice, se validan los representantes de los vértices de la arista y si son distintos se llama al MERGE, ingresando los representantes (la razón de esta comparación es que si dos vértices comparten una arista, significa que pertenecen a la misma componente, luego, se deben unificar sus representantes).\n",
    "Una vez hecho todo este recorrido, ya tenemos las componentes referenciadas mediante los representantes, solo basta con formar los conjuntos a devolver.\n",
    "Pero antes de ello, para unificar representantes y usar esto como mecanismo de palanca para la creación de las componentes, vamos a recorrer todos los vértices y vamos a actualizar sus representantes.\n",
    "Ahora sí, basta con recorrer los representantes e ir actualizando un diccionario que contendrá como clave el representante y como valor una lista con los vértices que lo posean. Una vez se recorren los representantes y se hacen estas validaciones y/o actualizaciones, tendremos un diccionario con los representantes y sus componentes conexas, es decir, tendremos las componentes conexas del grafo.\n"
   ],
   "metadata": {
    "collapsed": false
   },
   "id": "ca27e3bfec4537c"
  },
  {
   "cell_type": "code",
   "execution_count": 14,
   "outputs": [
    {
     "name": "stdout",
     "output_type": "stream",
     "text": [
      "[1, 2, 3, 4]\n",
      "[5, 6]\n"
     ]
    }
   ],
   "source": [
    "V = (1, 2, 3, 4, 5, 6)\n",
    "E = ((1, 2), (1, 3), (4, 1), (5, 6))\n",
    "\n",
    "components(V, E)"
   ],
   "metadata": {
    "collapsed": false,
    "ExecuteTime": {
     "end_time": "2023-09-01T03:11:43.450222500Z",
     "start_time": "2023-09-01T03:11:43.444219500Z"
    }
   },
   "id": "1c18cb49faafe311"
  },
  {
   "cell_type": "code",
   "execution_count": 15,
   "outputs": [
    {
     "name": "stdout",
     "output_type": "stream",
     "text": [
      "[1, 6, 9, 12]\n",
      "[2, 16]\n",
      "[3]\n",
      "[4, 10]\n",
      "[5]\n",
      "[7]\n",
      "[8, 14, 15]\n",
      "[11]\n",
      "[13, 18]\n",
      "[17]\n",
      "[19]\n",
      "[20]\n"
     ]
    }
   ],
   "source": [
    "V1 = (1, 2, 3, 4, 5, 6, 7, 8, 9, 10, 11, 12, 13, 14, 15, 16, 17, 18, 19, 20)\n",
    "E1 = ((9, 1), (10, 4), (12, 6), (12, 9), (15, 8), (15, 14), (16, 2), (18, 13))\n",
    "\n",
    "components(V1, E1)"
   ],
   "metadata": {
    "collapsed": false,
    "ExecuteTime": {
     "end_time": "2023-09-01T03:11:45.077846800Z",
     "start_time": "2023-09-01T03:11:45.073325Z"
    }
   },
   "id": "a4dd4efabe06d7df"
  }
 ],
 "metadata": {
  "kernelspec": {
   "display_name": "Python 3",
   "language": "python",
   "name": "python3"
  },
  "language_info": {
   "codemirror_mode": {
    "name": "ipython",
    "version": 2
   },
   "file_extension": ".py",
   "mimetype": "text/x-python",
   "name": "python",
   "nbconvert_exporter": "python",
   "pygments_lexer": "ipython2",
   "version": "2.7.6"
  }
 },
 "nbformat": 4,
 "nbformat_minor": 5
}
