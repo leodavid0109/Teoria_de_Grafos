{
 "cells": [
  {
   "cell_type": "markdown",
   "source": [
    "# Ejercicio 6 Parcial 2 Introducción a la Teoría de Grafos\n",
    "\n",
    "Suponga que $T = \\{(i, j) : 1 \\leq i \\leq 8, 1 \\leq j \\leq 8 \\}$ es un tablero de ajedrez. El caballo se puede mover a la casilla más cercana que no se encuentre en su propia fila, columna o diagonal, aunque para simplificar se dice que se mueve avanzando dos casillas en vertical y una en horizontal, o viceversa, realizando un movimiento de $\"L\"$."
   ],
   "metadata": {
    "collapsed": false
   },
   "id": "14eade6053ed06ff"
  },
  {
   "cell_type": "markdown",
   "source": [
    "## Descripción del Algoritmo\n",
    "\n",
    "### Instrucción:\n",
    "Describa un algoritmo que tome como entrada una posición inicial y una posición final para un caballo, y describa los movimientos que debe realizar el caballo para ir de la posición inicial a la final en la menor cantidad de jugadas posible.\n",
    "\n",
    "### Propuesta:\n",
    "El algoritmo va a recibir como entrada una posición inicial $(i, j)$ y una posición final $(r, s)$ de la jugada que va a realizar y retorna el camino más corto para realizar dicha jugada. Vamos a tomar como existente una función $horse(i, j)$ que devolverá una lista de las tuplas $(i, j)$ a las cuales puede llegar (por verificaciones en tipo movimiento). Vamos a emular una suerte de BFS, donde cada nodo del grafo será una posición del tablero de ajedrez al que puedo llegar desde el vértice anterior.\n",
    "La raíz del árbol será la $(i, j)$ inicial dada, y recursivamente se llamará a $horse(i, j)$ para revisar a donde puedo llegar siendo estas las primeras posiciones a revisar. Siguiendo el algoritmo BFS, para cada padre revisaremos a que casillas puedo llegar y verificamos que previamente no hayamos procesado dicha posición (si es así no es elegible en el grafo creado, puede hacerse con una lista de posiciones faltantes de las $64$ posibles), de no ser así procesamos dichas posiciones de acuerdo al algoritmo.\n",
    "\n",
    "Previo al procesamiento anterior hacemos nuestra \"condición de salida\", si uno de estos vértices a procesar es la posición final $(r, s)$, hemos acabado y basta con devolvernos por el camino creado para reconstruir y obtener el camino más corto a seguir por el caballo en su transcurso desde $(i, j)$ hasta $(r, s)$. Retornamos el camino y detenemos la aplicación del BFS."
   ],
   "metadata": {
    "collapsed": false
   },
   "id": "26eb4d16b7c58cf0"
  },
  {
   "cell_type": "markdown",
   "source": [
    "## Implementación del Algoritmo"
   ],
   "metadata": {
    "collapsed": false
   },
   "id": "9172c2b03bf68166"
  },
  {
   "cell_type": "code",
   "execution_count": 109,
   "id": "initial_id",
   "metadata": {
    "collapsed": true,
    "ExecuteTime": {
     "end_time": "2023-10-09T16:32:32.536567700Z",
     "start_time": "2023-10-09T16:32:32.529552100Z"
    }
   },
   "outputs": [],
   "source": [
    "# Implementación de la función horse, será la encargada de devolver los posibles movimientos del caballo en nuestro tablero de ajedrez\n",
    "def horse(i, j):\n",
    "    # Atributo de guardado de la lista de movimientos posibles\n",
    "    movimientos_posibles = []\n",
    "    # Verificaciones necesarias de la cabida de los 8 posibles movimientos de un caballo en el tablero de ajedrez 8x8\n",
    "    if i+2 <= 8 and j+1 <= 8:\n",
    "        movimientos_posibles.append((i+2, j+1))\n",
    "    if i+2 <= 8 and j-1 >= 1:\n",
    "        movimientos_posibles.append((i+2, j-1))\n",
    "    if i-2 >= 1 and j+1 <= 8:\n",
    "        movimientos_posibles.append((i-2, j+1))\n",
    "    if i-2 >= 1 and j-1 >= 1:\n",
    "        movimientos_posibles.append((i-2, j-1))\n",
    "    if j+2 <= 8 and i+1 <= 8:\n",
    "        movimientos_posibles.append((i+1, j+2))\n",
    "    if j+2 <= 8 and i-1 >= 1:\n",
    "        movimientos_posibles.append((i-1, j+2))\n",
    "    if j-2 >= 1 and i+1 <= 8:\n",
    "        movimientos_posibles.append((i+1, j-2))\n",
    "    if j-2 >= 1 and i-1 >= 1:\n",
    "        movimientos_posibles.append((i-1, j-2))\n",
    "    return movimientos_posibles"
   ]
  },
  {
   "cell_type": "code",
   "execution_count": 110,
   "outputs": [],
   "source": [
    "from collections import deque\n",
    "import matplotlib.pyplot as plt\n",
    "import numpy as np"
   ],
   "metadata": {
    "collapsed": false,
    "ExecuteTime": {
     "end_time": "2023-10-09T16:32:33.733235100Z",
     "start_time": "2023-10-09T16:32:33.729303200Z"
    }
   },
   "id": "3c3d53bf32ce5d97"
  },
  {
   "cell_type": "code",
   "execution_count": 111,
   "outputs": [],
   "source": [
    "# Implementación del algoritmo que devuelve el camino más corto que puede realizar un caballo para ir de la posición inicial a la posición final\n",
    "def camino_caballo(posicion_inicial, posicion_final):\n",
    "    # Creación de la cola de posiciones a visitar por el algoritmo, esta va a estar compuesta por la posición y el camino para llegar a dicha posición\n",
    "    posiciones_a_visitar = deque([(posicion_inicial, [])])\n",
    "    # Creación de la lista de posiciones ya visitadas con el fin de solo tomarlas en cuenta 1 vez\n",
    "    posiciones_visitadas = [posicion_inicial]\n",
    "    \n",
    "    while posiciones_a_visitar:\n",
    "        # Tomo la primera posición de la cola para verificarla y la elimino de la cola, al hacerlo me retorna ambos atributos ya almacenados\n",
    "        posicion_actual, camino_actual = posiciones_a_visitar.popleft()\n",
    "        \n",
    "        # Hago la verificación por si he llegado a la posición necesitada\n",
    "        if posicion_actual == posicion_final:\n",
    "            # Retorno el camino\n",
    "            return camino_actual + [posicion_actual]\n",
    "        \n",
    "        # Busco a que caminos puedo llegar a partir de mi posición actual llamando a la función horse previamente definida\n",
    "        movimientos_caballo = horse(posicion_actual[0], posicion_actual[1])\n",
    "        # Verifico si el movimiento ya ha sido previamente revisado\n",
    "        for movimiento in movimientos_caballo:\n",
    "            if movimiento not in posiciones_visitadas:\n",
    "                # De no haber sido revisado lo agrego a la cola y a las posiciones verificadas para evitar revisarla varias veces\n",
    "                # Cuando agrego a la cola lo hago con la posición y el camino para llegar a dicha posición\n",
    "                posiciones_visitadas.append(movimiento)\n",
    "                camino_agregado = camino_actual + [posicion_actual]\n",
    "                posiciones_a_visitar.append((movimiento, camino_agregado))\n",
    "    \n",
    "    # De no encontrarse un camino y como opción final se retornará una lista vacía para verificar que no hay un camino entre las dos posiciones.\n",
    "    return []"
   ],
   "metadata": {
    "collapsed": false,
    "ExecuteTime": {
     "end_time": "2023-10-09T16:32:34.706734800Z",
     "start_time": "2023-10-09T16:32:34.694279Z"
    }
   },
   "id": "1d106adde256d18d"
  },
  {
   "cell_type": "markdown",
   "source": [
    "### Implementación de una Graficación para términos de Ejemplificación"
   ],
   "metadata": {
    "collapsed": false
   },
   "id": "b2a9ade16f09f227"
  },
  {
   "cell_type": "code",
   "execution_count": 112,
   "outputs": [],
   "source": [
    "# Función desarrollada con el fin de hacer un gráfico para visualizar mejor el camino obtenido\n",
    "def visualizar_tablero(camino):\n",
    "    # Creación de una matriz de ceros de 8x8 para representar el tablero de ajedrez\n",
    "    tablero = np.zeros((8, 8), dtype=int)\n",
    "    for i, (x, y) in enumerate(camino):\n",
    "        # Marco las casillas del camino con números de 1 a n\n",
    "        tablero[x - 1][y - 1] = i + 1\n",
    "\n",
    "    # Creación de una figura y un eje para el gráfico\n",
    "    fig, ax = plt.subplots()\n",
    "    \n",
    "    # Creación de un patrón de tablero de ajedrez con casillas negras y blancas\n",
    "    tablero_ajedrez = np.zeros_like(tablero, dtype=int)\n",
    "    tablero_ajedrez[1::2, ::2] = 1\n",
    "    tablero_ajedrez[::2, 1::2] = 1\n",
    "    \n",
    "    # Coloreo las casillas del tablero con el patrón\n",
    "    ax.matshow(tablero_ajedrez, cmap='gray')\n",
    "\n",
    "    # Itero sobre todas las casillas del tablero\n",
    "    for i in range(8):\n",
    "        for j in range(8):\n",
    "            if tablero[i][j] > 0:\n",
    "                if tablero[i][j] % 2 == 0:\n",
    "                    # Cambio el color de fondo a negro para números pares\n",
    "                    color = 'black'\n",
    "                else:\n",
    "                    # Cambio el color de fondo a blanco para números impares\n",
    "                    color = 'white'\n",
    "                # Agrego un número en el centro de la casilla con color personalizado\n",
    "                ax.text(j, i, str(tablero[i][j]), ha='center', va='center', color=color, fontsize=12, fontweight='bold')\n",
    "\n",
    "    # Cambio el rango de las etiquetas de los ejes x e y y la posición de las etiquetas\n",
    "    plt.xticks(range(8), range(1, 9))\n",
    "    plt.yticks(range(8), range(1, 9))\n",
    "    # Invierto el eje y para que el tablero se vea correctamente\n",
    "    plt.gca().invert_yaxis()\n",
    "    plt.show()"
   ],
   "metadata": {
    "collapsed": false,
    "ExecuteTime": {
     "end_time": "2023-10-09T16:32:36.744851600Z",
     "start_time": "2023-10-09T16:32:36.735558600Z"
    }
   },
   "id": "d120f6c01228167"
  },
  {
   "cell_type": "markdown",
   "source": [
    "### Ejemplificaciones"
   ],
   "metadata": {
    "collapsed": false
   },
   "id": "6007a2aff5ebbdc4"
  },
  {
   "cell_type": "code",
   "execution_count": 113,
   "outputs": [
    {
     "name": "stdout",
     "output_type": "stream",
     "text": [
      "El caballo puede llegar de (1, 1) a (8, 8) en 6 movimientos.\n",
      "Camino:\n",
      "Posición 1: (1, 1)\n",
      "Posición 2: (3, 2)\n",
      "Posición 3: (5, 3)\n",
      "Posición 4: (7, 4)\n",
      "Posición 5: (5, 5)\n",
      "Posición 6: (7, 6)\n",
      "Posición 7: (8, 8)\n"
     ]
    },
    {
     "data": {
      "text/plain": "<Figure size 640x480 with 1 Axes>",
      "image/png": "[encoded data removed]"
     },
     "metadata": {},
     "output_type": "display_data"
    }
   ],
   "source": [
    "# Ejemplo de uso 1:\n",
    "posicion_inicial = (1, 1)\n",
    "posicion_final = (8, 8)\n",
    "camino = camino_caballo(posicion_inicial, posicion_final)\n",
    "\n",
    "if camino:\n",
    "    print(f\"El caballo puede llegar de {posicion_inicial} a {posicion_final} en {len(camino) - 1} movimientos.\")\n",
    "    print(\"Camino:\")\n",
    "    for paso, posicion in enumerate(camino):\n",
    "        print(f\"Posición {paso + 1}: {posicion}\")\n",
    "\n",
    "    # Visualizar el tablero con el recorrido\n",
    "    visualizar_tablero(camino)\n",
    "else:\n",
    "    print(f\"No hay un camino válido para llegar de {posicion_inicial} a {posicion_final}.\")"
   ],
   "metadata": {
    "collapsed": false,
    "ExecuteTime": {
     "end_time": "2023-10-09T16:32:38.731212800Z",
     "start_time": "2023-10-09T16:32:38.553695700Z"
    }
   },
   "id": "eae01f004bb41743"
  },
  {
   "cell_type": "code",
   "execution_count": 114,
   "outputs": [
    {
     "name": "stdout",
     "output_type": "stream",
     "text": [
      "El caballo puede llegar de (6, 4) a (7, 5) en 2 movimientos.\n",
      "Camino:\n",
      "Posición 1: (6, 4)\n",
      "Posición 2: (8, 3)\n",
      "Posición 3: (7, 5)\n"
     ]
    },
    {
     "data": {
      "text/plain": "<Figure size 640x480 with 1 Axes>",
      "image/png": "[encoded data removed]"
     },
     "metadata": {},
     "output_type": "display_data"
    }
   ],
   "source": [
    "#Ejemplo de uso 2:\n",
    "posicion_inicial = (6, 4)\n",
    "posicion_final = (7, 5)\n",
    "camino = camino_caballo(posicion_inicial, posicion_final)\n",
    "\n",
    "if camino:\n",
    "    print(f\"El caballo puede llegar de {posicion_inicial} a {posicion_final} en {len(camino) - 1} movimientos.\")\n",
    "    print(\"Camino:\")\n",
    "    for paso, posicion in enumerate(camino):\n",
    "        print(f\"Posición {paso + 1}: {posicion}\")\n",
    "\n",
    "    # Visualizar el tablero con el recorrido\n",
    "    visualizar_tablero(camino)\n",
    "else:\n",
    "    print(f\"No hay un camino válido para llegar de {posicion_inicial} a {posicion_final}.\")"
   ],
   "metadata": {
    "collapsed": false,
    "ExecuteTime": {
     "end_time": "2023-10-09T16:32:40.236304300Z",
     "start_time": "2023-10-09T16:32:40.073862600Z"
    }
   },
   "id": "f571eb76c860af35"
  },
  {
   "cell_type": "code",
   "execution_count": 115,
   "outputs": [
    {
     "name": "stdout",
     "output_type": "stream",
     "text": [
      "El caballo puede llegar de (3, 5) a (8, 2) en 4 movimientos.\n",
      "Camino:\n",
      "Posición 1: (3, 5)\n",
      "Posición 2: (5, 6)\n",
      "Posición 3: (7, 5)\n",
      "Posición 4: (6, 3)\n",
      "Posición 5: (8, 2)\n"
     ]
    },
    {
     "data": {
      "text/plain": "<Figure size 640x480 with 1 Axes>",
      "image/png": "[encoded data removed]"
     },
     "metadata": {},
     "output_type": "display_data"
    }
   ],
   "source": [
    "#Ejemplo de uso 3:\n",
    "posicion_inicial = (3, 5)\n",
    "posicion_final = (8, 2)\n",
    "camino = camino_caballo(posicion_inicial, posicion_final)\n",
    "\n",
    "if camino:\n",
    "    print(f\"El caballo puede llegar de {posicion_inicial} a {posicion_final} en {len(camino) - 1} movimientos.\")\n",
    "    print(\"Camino:\")\n",
    "    for paso, posicion in enumerate(camino):\n",
    "        print(f\"Posición {paso + 1}: {posicion}\")\n",
    "\n",
    "    # Visualizar el tablero con el recorrido\n",
    "    visualizar_tablero(camino)\n",
    "else:\n",
    "    print(f\"No hay un camino válido para llegar de {posicion_inicial} a {posicion_final}.\")"
   ],
   "metadata": {
    "collapsed": false,
    "ExecuteTime": {
     "end_time": "2023-10-09T16:32:41.325812600Z",
     "start_time": "2023-10-09T16:32:41.151905800Z"
    }
   },
   "id": "fb17b3fcd403351c"
  },
  {
   "cell_type": "code",
   "execution_count": null,
   "outputs": [],
   "source": [],
   "metadata": {
    "collapsed": false
   },
   "id": "2fd0d3343a09b19b"
  }
 ],
 "metadata": {
  "kernelspec": {
   "display_name": "Python 3",
   "language": "python",
   "name": "python3"
  },
  "language_info": {
   "codemirror_mode": {
    "name": "ipython",
    "version": 2
   },
   "file_extension": ".py",
   "mimetype": "text/x-python",
   "name": "python",
   "nbconvert_exporter": "python",
   "pygments_lexer": "ipython2",
   "version": "2.7.6"
  }
 },
 "nbformat": 4,
 "nbformat_minor": 5
}
