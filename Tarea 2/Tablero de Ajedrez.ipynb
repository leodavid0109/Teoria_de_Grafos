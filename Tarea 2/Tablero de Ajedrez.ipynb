{
 "cells": [
  {
   "cell_type": "markdown",
   "source": [
    "# Ejercicio 6 Parcial 2 Introducción a la Teoría de Grafos\n",
    "\n",
    "Suponga que $T = \\{(i, j) : 1 \\leq i \\leq 8, 1 \\leq j \\leq 8 \\}$ es un tablero de ajedrez. El caballo se puede mover a la casilla más cercana que no se encuentre en su propia fila, columna o diagonal, aunque para simplificar se dice que se mueve avanzando dos casillas en vertical y una en horizontal, o viceversa, realizando un movimiento de $\"L\"$."
   ],
   "metadata": {
    "collapsed": false
   },
   "id": "14eade6053ed06ff"
  },
  {
   "cell_type": "markdown",
   "source": [
    "## Descripción del Algoritmo\n",
    "\n",
    "### Instrucción:\n",
    "Describa un algoritmo que tome como entrada una posición inicial y una posición final para un caballo, y describa los movimientos que debe realizar el caballo para ir de la posición inicial a la final en la menor cantidad de jugadas posible.\n",
    "\n",
    "### Propuesta:\n",
    "El algoritmo va a recibir como entrada una posición inicial $(i, j)$ y una posición final $(r, s)$ de la jugada que va a realizar y retorna el camino más corto para realizar dicha jugada. Vamos a tomar como existente una función $horse(i, j)$ que devolverá una lista de las tuplas $(i, j)$ a las cuales puede llegar (por verificaciones en tipo movimiento). Vamos a emular una suerte de BFS, donde cada nodo del grafo será una posición del tablero de ajedrez al que puedo llegar desde el vértice anterior.\n",
    "La raíz del árbol será la $(i, j)$ inicial dada, y recursivamente se llamará a $horse(i, j)$ para revisar a donde puedo llegar siendo estas las primeras posiciones a revisar. Siguiendo el algoritmo BFS, para cada padre revisaremos a que casillas puedo llegar y verificamos que previamente no hayamos procesado dicha posición (si es así no es elegible en el grafo creado, puede hacerse con una lista de posiciones faltantes de las $64$ posibles), de no ser así procesamos dichas posiciones de acuerdo al algoritmo.\n",
    "\n",
    "Previo al procesamiento anterior hacemos nuestra \"condición de salida\", si uno de estos vértices a procesar es la posición final $(r, s)$, hemos acabado y basta con devolvernos por el camino creado para reconstruir y obtener el camino más corto a seguir por el caballo en su transcurso desde $(i, j)$ hasta $(r, s)$. Retornamos el camino y detenemos la aplicación del BFS."
   ],
   "metadata": {
    "collapsed": false
   },
   "id": "26eb4d16b7c58cf0"
  },
  {
   "cell_type": "markdown",
   "source": [
    "## Implementación del Algoritmo\n",
    "\n",
    "### Instrucción:"
   ],
   "metadata": {
    "collapsed": false
   },
   "id": "9172c2b03bf68166"
  },
  {
   "cell_type": "code",
   "execution_count": null,
   "id": "initial_id",
   "metadata": {
    "collapsed": true
   },
   "outputs": [],
   "source": []
  }
 ],
 "metadata": {
  "kernelspec": {
   "display_name": "Python 3",
   "language": "python",
   "name": "python3"
  },
  "language_info": {
   "codemirror_mode": {
    "name": "ipython",
    "version": 2
   },
   "file_extension": ".py",
   "mimetype": "text/x-python",
   "name": "python",
   "nbconvert_exporter": "python",
   "pygments_lexer": "ipython2",
   "version": "2.7.6"
  }
 },
 "nbformat": 4,
 "nbformat_minor": 5
}
